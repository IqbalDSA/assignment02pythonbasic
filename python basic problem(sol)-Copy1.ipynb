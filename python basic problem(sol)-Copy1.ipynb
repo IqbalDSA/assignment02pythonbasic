{
 "cells": [
  {
   "cell_type": "code",
   "execution_count": 1,
   "id": "d302714d",
   "metadata": {},
   "outputs": [],
   "source": [
    "#13. Find the intersection (common) of two sets.\n",
    "S1 = {1,4,6,8}\n",
    "S2 = {True, 1,2,10}\n"
   ]
  },
  {
   "cell_type": "code",
   "execution_count": 2,
   "id": "98841df3",
   "metadata": {},
   "outputs": [
    {
     "data": {
      "text/plain": [
       "{True}"
      ]
     },
     "execution_count": 2,
     "metadata": {},
     "output_type": "execute_result"
    }
   ],
   "source": [
    "S1.intersection(S2)"
   ]
  },
  {
   "cell_type": "code",
   "execution_count": 3,
   "id": "e72bd495",
   "metadata": {},
   "outputs": [
    {
     "data": {
      "text/plain": [
       "{True}"
      ]
     },
     "execution_count": 3,
     "metadata": {},
     "output_type": "execute_result"
    }
   ],
   "source": [
    "S2.intersection(S1)"
   ]
  },
  {
   "cell_type": "code",
   "execution_count": 4,
   "id": "bc82961e",
   "metadata": {},
   "outputs": [
    {
     "name": "stdout",
     "output_type": "stream",
     "text": [
      "{True}\n"
     ]
    }
   ],
   "source": [
    "common = S1.intersection(S2)\n",
    "print(common)"
   ]
  },
  {
   "cell_type": "code",
   "execution_count": 11,
   "id": "ec70d200",
   "metadata": {},
   "outputs": [
    {
     "name": "stdout",
     "output_type": "stream",
     "text": [
      "enter your total index:7\n",
      "1\n",
      "9\n",
      "3\n",
      "4\n",
      "5\n",
      "200\n",
      "54\n",
      "['1', '9', '3', '4', '5', '200', '54']\n"
     ]
    }
   ],
   "source": [
    "#14. Input a list from the user then Remove duplicates from a list and create a set and find the max\n",
    "#number. User_input = [1,9,3,4,5,200,54]\n",
    "li = [ ]\n",
    "n = int(input(\"enter your total index:\"))\n",
    "for i in range(n):\n",
    "    new = input()\n",
    "    li.append(new)\n",
    "print(li)"
   ]
  },
  {
   "cell_type": "code",
   "execution_count": 12,
   "id": "a2c14c26",
   "metadata": {},
   "outputs": [
    {
     "data": {
      "text/plain": [
       "['1', '9', '3', '4', '5', '200', '54']"
      ]
     },
     "execution_count": 12,
     "metadata": {},
     "output_type": "execute_result"
    }
   ],
   "source": [
    "li"
   ]
  },
  {
   "cell_type": "code",
   "execution_count": 13,
   "id": "5a5d8132",
   "metadata": {},
   "outputs": [],
   "source": [
    "li.append(9)"
   ]
  },
  {
   "cell_type": "code",
   "execution_count": 14,
   "id": "9aa195d1",
   "metadata": {},
   "outputs": [
    {
     "data": {
      "text/plain": [
       "['1', '9', '3', '4', '5', '200', '54', 9]"
      ]
     },
     "execution_count": 14,
     "metadata": {},
     "output_type": "execute_result"
    }
   ],
   "source": [
    "li"
   ]
  },
  {
   "cell_type": "code",
   "execution_count": 15,
   "id": "3d0b687e",
   "metadata": {},
   "outputs": [],
   "source": [
    "li.remove(9)"
   ]
  },
  {
   "cell_type": "code",
   "execution_count": 16,
   "id": "372e566b",
   "metadata": {},
   "outputs": [
    {
     "data": {
      "text/plain": [
       "['1', '9', '3', '4', '5', '200', '54']"
      ]
     },
     "execution_count": 16,
     "metadata": {},
     "output_type": "execute_result"
    }
   ],
   "source": [
    "li"
   ]
  },
  {
   "cell_type": "code",
   "execution_count": 18,
   "id": "7da29df3",
   "metadata": {},
   "outputs": [
    {
     "name": "stdout",
     "output_type": "stream",
     "text": [
      "{'1', '54', '9', '3', '4', '200', '5'}\n"
     ]
    }
   ],
   "source": [
    "set1 = set(li)\n",
    "print(set1)"
   ]
  },
  {
   "cell_type": "code",
   "execution_count": 29,
   "id": "02e82a56",
   "metadata": {},
   "outputs": [
    {
     "data": {
      "text/plain": [
       "['1', '9', '3', '4', '5', '200', '54']"
      ]
     },
     "execution_count": 29,
     "metadata": {},
     "output_type": "execute_result"
    }
   ],
   "source": [
    "li\n"
   ]
  },
  {
   "cell_type": "code",
   "execution_count": 37,
   "id": "211e0ad8",
   "metadata": {},
   "outputs": [
    {
     "data": {
      "text/plain": [
       "list"
      ]
     },
     "execution_count": 37,
     "metadata": {},
     "output_type": "execute_result"
    }
   ],
   "source": [
    "type(li)"
   ]
  },
  {
   "cell_type": "code",
   "execution_count": 4,
   "id": "97bef96c",
   "metadata": {},
   "outputs": [],
   "source": [
    "#15. Rename the key of a dictionary.\n",
    "#Dict = { \"name\": \"Shakil\", \"age\":27, \"city\": “Berlin”, \"country\": \"Germany\" }\n",
    "#Write a program to rename a key ‘country’ to a ‘region’ in the following dictionary.\n"
   ]
  },
  {
   "cell_type": "code",
   "execution_count": 5,
   "id": "bc13a2a4",
   "metadata": {},
   "outputs": [],
   "source": [
    "dic = { \"name\": \"Shakil\", \"age\": 27, \"city\":\" Berlin\", \"country\": \"Germany\" }"
   ]
  },
  {
   "cell_type": "code",
   "execution_count": 6,
   "id": "039bb238",
   "metadata": {},
   "outputs": [],
   "source": [
    "dic.update({\"region\" : \"Germany\"})"
   ]
  },
  {
   "cell_type": "code",
   "execution_count": 47,
   "id": "aae8a1c6",
   "metadata": {},
   "outputs": [],
   "source": [
    "dic1 = {\"name\":\"shakil\",\"age\": 27,\"city\":\"Barlin\",\"country\":\"Germany\"}"
   ]
  },
  {
   "cell_type": "code",
   "execution_count": 48,
   "id": "4d83484f",
   "metadata": {},
   "outputs": [],
   "source": [
    "dic1.update({\"region\":\"Germany\"})"
   ]
  },
  {
   "cell_type": "code",
   "execution_count": 49,
   "id": "94ee1f22",
   "metadata": {},
   "outputs": [
    {
     "data": {
      "text/plain": [
       "{'name': 'shakil',\n",
       " 'age': 27,\n",
       " 'city': 'Barlin',\n",
       " 'country': 'Germany',\n",
       " 'region': 'Germany'}"
      ]
     },
     "execution_count": 49,
     "metadata": {},
     "output_type": "execute_result"
    }
   ],
   "source": [
    "dic1"
   ]
  },
  {
   "cell_type": "code",
   "execution_count": 51,
   "id": "d73af6ad",
   "metadata": {},
   "outputs": [],
   "source": [
    "#17. Change the value of a key in a given dictionary.\n",
    "#Write a Python program to change ‘age’ to 28 in the following dictionary.\n",
    "Dict = { \"name\": \"Shakil\", \"age\":27, \"city\": \"Berlin\", \"country\": \"Germany\" }"
   ]
  },
  {
   "cell_type": "code",
   "execution_count": 52,
   "id": "04e67745",
   "metadata": {},
   "outputs": [],
   "source": [
    "Dict[\"age\"] = 28"
   ]
  },
  {
   "cell_type": "code",
   "execution_count": 53,
   "id": "d5df31f2",
   "metadata": {},
   "outputs": [
    {
     "data": {
      "text/plain": [
       "{'name': 'Shakil', 'age': 28, 'city': 'Berlin', 'country': 'Germany'}"
      ]
     },
     "execution_count": 53,
     "metadata": {},
     "output_type": "execute_result"
    }
   ],
   "source": [
    "Dict"
   ]
  },
  {
   "cell_type": "code",
   "execution_count": null,
   "id": "b1cdc5b7",
   "metadata": {},
   "outputs": [],
   "source": [
    "#16. Creating a data frame using the list.\n",
    "#num = [10,100,300] (column name is number)"
   ]
  },
  {
   "cell_type": "code",
   "execution_count": 1,
   "id": "5eb14578",
   "metadata": {},
   "outputs": [
    {
     "name": "stdout",
     "output_type": "stream",
     "text": [
      "Requirement already satisfied: pandas in c:\\users\\dell\\anaconda3\\lib\\site-packages (1.5.3)\n",
      "Requirement already satisfied: python-dateutil>=2.8.1 in c:\\users\\dell\\anaconda3\\lib\\site-packages (from pandas) (2.8.2)\n",
      "Requirement already satisfied: pytz>=2020.1 in c:\\users\\dell\\anaconda3\\lib\\site-packages (from pandas) (2022.7)\n",
      "Requirement already satisfied: numpy>=1.21.0 in c:\\users\\dell\\anaconda3\\lib\\site-packages (from pandas) (1.23.5)\n",
      "Requirement already satisfied: six>=1.5 in c:\\users\\dell\\anaconda3\\lib\\site-packages (from python-dateutil>=2.8.1->pandas) (1.16.0)\n"
     ]
    }
   ],
   "source": [
    "!pip install pandas\n"
   ]
  },
  {
   "cell_type": "code",
   "execution_count": 2,
   "id": "2148eea6",
   "metadata": {},
   "outputs": [],
   "source": [
    "import pandas as pd\n",
    "num = [10,100,300]\n",
    "df = pd.DataFrame(num,columns = [\"number\"])"
   ]
  },
  {
   "cell_type": "code",
   "execution_count": 3,
   "id": "06fcc67c",
   "metadata": {},
   "outputs": [
    {
     "data": {
      "text/html": [
       "<div>\n",
       "<style scoped>\n",
       "    .dataframe tbody tr th:only-of-type {\n",
       "        vertical-align: middle;\n",
       "    }\n",
       "\n",
       "    .dataframe tbody tr th {\n",
       "        vertical-align: top;\n",
       "    }\n",
       "\n",
       "    .dataframe thead th {\n",
       "        text-align: right;\n",
       "    }\n",
       "</style>\n",
       "<table border=\"1\" class=\"dataframe\">\n",
       "  <thead>\n",
       "    <tr style=\"text-align: right;\">\n",
       "      <th></th>\n",
       "      <th>number</th>\n",
       "    </tr>\n",
       "  </thead>\n",
       "  <tbody>\n",
       "    <tr>\n",
       "      <th>0</th>\n",
       "      <td>10</td>\n",
       "    </tr>\n",
       "    <tr>\n",
       "      <th>1</th>\n",
       "      <td>100</td>\n",
       "    </tr>\n",
       "    <tr>\n",
       "      <th>2</th>\n",
       "      <td>300</td>\n",
       "    </tr>\n",
       "  </tbody>\n",
       "</table>\n",
       "</div>"
      ],
      "text/plain": [
       "   number\n",
       "0      10\n",
       "1     100\n",
       "2     300"
      ]
     },
     "execution_count": 3,
     "metadata": {},
     "output_type": "execute_result"
    }
   ],
   "source": [
    "df"
   ]
  },
  {
   "cell_type": "code",
   "execution_count": 8,
   "id": "59c2985f",
   "metadata": {},
   "outputs": [],
   "source": [
    "#find max\n",
    "li = ['1', '9', '3', '4', '5', '200', '54']"
   ]
  },
  {
   "cell_type": "code",
   "execution_count": 9,
   "id": "c69f9e94",
   "metadata": {},
   "outputs": [
    {
     "data": {
      "text/plain": [
       "['1', '9', '3', '4', '5', '200', '54']"
      ]
     },
     "execution_count": 9,
     "metadata": {},
     "output_type": "execute_result"
    }
   ],
   "source": [
    "li"
   ]
  },
  {
   "cell_type": "code",
   "execution_count": 10,
   "id": "ba199148",
   "metadata": {},
   "outputs": [
    {
     "name": "stdout",
     "output_type": "stream",
     "text": [
      "9\n"
     ]
    }
   ],
   "source": [
    "print(max(li))"
   ]
  },
  {
   "cell_type": "code",
   "execution_count": null,
   "id": "813c05a5",
   "metadata": {},
   "outputs": [],
   "source": []
  }
 ],
 "metadata": {
  "kernelspec": {
   "display_name": "Python 3 (ipykernel)",
   "language": "python",
   "name": "python3"
  },
  "language_info": {
   "codemirror_mode": {
    "name": "ipython",
    "version": 3
   },
   "file_extension": ".py",
   "mimetype": "text/x-python",
   "name": "python",
   "nbconvert_exporter": "python",
   "pygments_lexer": "ipython3",
   "version": "3.10.9"
  }
 },
 "nbformat": 4,
 "nbformat_minor": 5
}
